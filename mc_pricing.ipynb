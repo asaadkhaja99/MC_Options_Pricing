{
 "cells": [
  {
   "cell_type": "code",
   "execution_count": 3,
   "metadata": {},
   "outputs": [],
   "source": [
    "#import relevant libraries\n",
    "import numpy as np\n",
    "import scipy as sp\n",
    "from scipy.stats import norm"
   ]
  },
  {
   "cell_type": "markdown",
   "metadata": {},
   "source": [
    "# MC Pricing"
   ]
  },
  {
   "cell_type": "code",
   "execution_count": 4,
   "metadata": {},
   "outputs": [],
   "source": [
    "#import relevant libraries\n",
    "import numpy as np\n",
    "\n",
    "def MC_pricing(S, T, K, r, sigma, mc_step_count, simulation_count, type):\n",
    "    \"\"\"\n",
    "    S: Current price\n",
    "    T: Time to maturity\n",
    "    K: Strike Price\n",
    "    r: Risk free rate\n",
    "    sigma: volatility\n",
    "    \"\"\"\n",
    "    #Each time a price is generated a we will run 10000 simulations\n",
    "    #Each simulation requires iterative multiplication of the current time steps' price by the updated exponential factor\n",
    "    #We try and vectorise the simulations, but run the iterative multiplication with an explicit loop\n",
    "    price_paths = np.full((simulation_count, mc_step_count+1), S)\n",
    "\n",
    "\n",
    "    time_step = T/mc_step_count\n",
    "    e = np.random.standard_normal(size=(simulation_count, mc_step_count)) # A sim count x mc step count array\n",
    "\n",
    "    expoential_factor = np.exp((r - (sigma**2)/2)*time_step\n",
    "                               + sigma * e * np.sqrt(time_step)\n",
    "                               )                                    #This produces an sim count x mc step count array of expoential factors\n",
    "\n",
    "\n",
    "    # We need to set all columns except the first one to be equal to the S times the cum product of the exponential factors array\n",
    "    price_paths[:, 1:] = S *np.cumprod(expoential_factor, axis=1) # multiply along the row\n",
    "    final_prices = price_paths[:, -1]\n",
    "\n",
    "    if type == 'call':\n",
    "        pay_off =  np.maximum(final_prices - K, 0)\n",
    "\n",
    "    elif type == 'put':\n",
    "        pay_off =  np.maximum(K - final_prices, 0)\n",
    "\n",
    "    option_price = np.mean(pay_off)*np.exp(-r * T)\n",
    "\n",
    "    return option_price\n"
   ]
  },
  {
   "cell_type": "markdown",
   "metadata": {},
   "source": [
    "# BSM Model Pricing"
   ]
  },
  {
   "cell_type": "code",
   "execution_count": 5,
   "metadata": {},
   "outputs": [],
   "source": [
    "def black_scholes_price(S,K,T,r,sigma,type):\n",
    "    \"\"\"\n",
    "    Taken from [1]\n",
    "    Inputs\n",
    "    #S = Current stock Price\n",
    "    #K = Strike Price\n",
    "    #T = Time to maturity 1 year = 1, 1 months = 1/12\n",
    "    #r = risk free interest rate\n",
    "    #q = dividend yield\n",
    "    # sigma = volatility \n",
    "    \n",
    "    Output\n",
    "    # call_price = value of the option \n",
    "    \"\"\"\n",
    "    \n",
    "    d1 = (np.log(S/K) + (r + sigma**2/2)*T) / (sigma*np.sqrt(T))\n",
    "    d2 = d1 - sigma* np.sqrt(T)\n",
    "    \n",
    "    if type == 'call':\n",
    "        \n",
    "        call = S * np.exp(-r*T)* sp.stats.norm.cdf(d1) - K * np.exp(-r*T)*sp.stats.norm.cdf(d2)\n",
    "        return call\n",
    "    \n",
    "    elif type == 'put':\n",
    "         K * np.exp(-r * T) * sp.stats.norm.cdf(-d2) - S * sp.stats.norm.cdf(-d1)"
   ]
  },
  {
   "cell_type": "markdown",
   "metadata": {},
   "source": [
    "# Comparison of both models"
   ]
  },
  {
   "cell_type": "code",
   "execution_count": 6,
   "metadata": {},
   "outputs": [
    {
     "name": "stdout",
     "output_type": "stream",
     "text": [
      "MC Price\n",
      "0.25 3.861441780856085\n",
      "MC Price\n",
      "0.5 10.500012630647163\n",
      "MC Price\n",
      "0.75 17.9162308455609\n",
      "MC Price\n",
      "1 24.1817398038243\n"
     ]
    }
   ],
   "source": [
    "for sigma in [0.25, 0.5, 0.75, 1]:\n",
    "    S = 100 #stock price S_{0}\n",
    "    K = 110 # strike\n",
    "    T = 1/2 # time to maturity\n",
    "    r = 0.03 # risk free risk in annual %\n",
    "    # sigma = 0.25 # annual volatility in %\n",
    "    mc_step_count = 100 # time steps\n",
    "    simulation_count = 10000 # number of trials\n",
    "\n",
    "    mc_price = MC_pricing(S, T, K, r, sigma, mc_step_count, simulation_count, type='call')\n",
    "   \n",
    "    print('MC Price')\n",
    "    print(sigma, mc_price)\n",
    "  \n"
   ]
  },
  {
   "cell_type": "code",
   "execution_count": 7,
   "metadata": {},
   "outputs": [
    {
     "name": "stdout",
     "output_type": "stream",
     "text": [
      "------------------------------------------------------------\n",
      "BSM Price\n",
      "0.25 3.670319165209884\n",
      "------------------------------------------------------------\n",
      "BSM Price\n",
      "0.5 3.6852741794050052\n",
      "------------------------------------------------------------\n",
      "BSM Price\n",
      "0.75 3.6882742114902047\n",
      "------------------------------------------------------------\n",
      "BSM Price\n",
      "1 3.688316648426815\n"
     ]
    }
   ],
   "source": [
    "for sigma in [0.25, 0.5, 0.75, 1]:\n",
    "    S = 100 #stock price S_{0}\n",
    "    K = 110 # strike\n",
    "    T = 1/2 # time to maturity\n",
    "    r = 0.03 # risk free risk in annual %\n",
    "    # sigma = 0.25 # annual volatility in %\n",
    "    bsm_price = black_scholes_price(S, T, K, r, sigma,type='call')\n",
    "    print('-'*60)\n",
    "    print('BSM Price')\n",
    "    print(sigma, bsm_price)"
   ]
  },
  {
   "cell_type": "code",
   "execution_count": 8,
   "metadata": {},
   "outputs": [
    {
     "name": "stdout",
     "output_type": "stream",
     "text": [
      "============================================================\n",
      "0.25 12.85994679316026\n",
      "0.5 19.494084639223125\n",
      "0.75 26.636835779703052\n",
      "1 33.43046324878765\n"
     ]
    }
   ],
   "source": [
    "\n",
    "print('='*60)\n",
    "for sigma in [0.25, 0.5, 0.75, 1]:\n",
    "    S = 100 #stock price S_{0}\n",
    "    K = 110 # strike\n",
    "    T = 1/2 # time to maturity\n",
    "    r = 0.03 # risk free risk in annual %\n",
    "    # sigma = 0.25 # annual volatility in %\n",
    "    mc_step_count = 100 # time steps\n",
    "    simulation_count = 10000 # number of trials\n",
    "\n",
    "    mc_price = MC_pricing(S, T, K, r, sigma, mc_step_count, simulation_count, type='put')\n",
    "    print(sigma, mc_price)"
   ]
  },
  {
   "cell_type": "code",
   "execution_count": 9,
   "metadata": {},
   "outputs": [
    {
     "name": "stdout",
     "output_type": "stream",
     "text": [
      "3.690032303365152\n",
      "4.139084937772435\n",
      "4.047828727891188\n",
      "4.175924175412585\n",
      "============================================================\n",
      "12.798180274547148\n",
      "12.080752608771096\n",
      "11.725760948351832\n",
      "11.347419623782706\n"
     ]
    }
   ],
   "source": [
    "for r in [0.03, 0.04, 0.05, 0.06]:\n",
    "    S = 100 #stock price S_{0}\n",
    "    K = 110 # strike\n",
    "    T = 1/2 # time to maturity\n",
    "    # r = 0.03 # risk free risk in annual %\n",
    "    sigma = 0.25 # annual volatility in %\n",
    "    mc_step_count = 100 # time steps\n",
    "    simulation_count = 10000 # number of trials\n",
    "\n",
    "    mc_price = MC_pricing(S, T, K, r, sigma, mc_step_count, simulation_count, type='call')\n",
    "    print(mc_price)\n",
    "\n",
    "print('='*60)\n",
    "for r in [0.03, 0.04, 0.05, 0.06]:\n",
    "    S = 100 #stock price S_{0}\n",
    "    K = 110 # strike\n",
    "    T = 1/2 # time to maturity\n",
    "    # r = 0.03 # risk free risk in annual %\n",
    "    sigma = 0.25 # annual volatility in %\n",
    "    mc_step_count = 100 # time steps\n",
    "    simulation_count = 10000 # number of trials\n",
    "\n",
    "    mc_price = MC_pricing(S, T, K, r, sigma, mc_step_count, simulation_count, type='put')\n",
    "    print(mc_price)"
   ]
  },
  {
   "cell_type": "markdown",
   "metadata": {},
   "source": [
    "# References used\n",
    "[1] : https://www.codearmo.com/blog/pricing-options-monte-carlo-simulation-python"
   ]
  }
 ],
 "metadata": {
  "kernelspec": {
   "display_name": "venv_ML_Trading",
   "language": "python",
   "name": "python3"
  },
  "language_info": {
   "codemirror_mode": {
    "name": "ipython",
    "version": 3
   },
   "file_extension": ".py",
   "mimetype": "text/x-python",
   "name": "python",
   "nbconvert_exporter": "python",
   "pygments_lexer": "ipython3",
   "version": "3.12.4"
  }
 },
 "nbformat": 4,
 "nbformat_minor": 2
}
